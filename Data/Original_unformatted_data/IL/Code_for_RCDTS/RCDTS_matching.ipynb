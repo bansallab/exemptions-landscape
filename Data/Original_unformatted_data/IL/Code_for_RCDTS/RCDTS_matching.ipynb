{
 "cells": [
  {
   "cell_type": "code",
   "execution_count": 1,
   "metadata": {},
   "outputs": [],
   "source": [
    "#Import the pandas package for data wrangling\n",
    "import pandas as pd"
   ]
  },
  {
   "cell_type": "markdown",
   "metadata": {},
   "source": [
    "There are multiple files being imported below: you need to change the paths so they match the locations of the files on your computer. "
   ]
  },
  {
   "cell_type": "code",
   "execution_count": 2,
   "metadata": {},
   "outputs": [],
   "source": [
    "#First import the file with the data, and the RCDTS code \n",
    "#Here I am using a file that has Illinois 2012 data \n",
    "#CAVEAT: sometimes the RCDTS don't import well from CSV - you can check by typing df.head() and make sure the code has 15 digits\n",
    "df = pd.read_csv('C:/Data_various/Illinois_hesitancy/IL_NME_2012.csv')\n",
    "\n",
    "#Import a file that you can use to match RCDTS codes to county codes \n",
    "IL_codes = pd.read_csv('C:/Data_various/Illinois_hesitancy/key_codes.csv')\n",
    "\n",
    "#County codes from the RCDTS have 3 digits\n",
    "#But a csv file does not keep zeros at the beginning of digits \n",
    "#This 'pads' the 2 digit codes with a zero at the beginning so all county codes are 3 digits long\n",
    "#It stores the result in a County_code column \n",
    "IL_codes['County_code'] = IL_codes['County_code'].astype(str).str.pad(3, 'left', '0')\n",
    "\n",
    "\n",
    "#Create a 3 digit county code from the RCDTS column\n",
    "#The location information is encoded in the RCDTS column - Region(XX)-County(XXX)-District(XXXX)-Type(XX)-School(XXXX)\n",
    "#First transform the numeric code as a 'string' object - they are easier to manipulate\n",
    "#Then it 'slices' the code starting on the 3rd character (start = 2 means start AFTER 2) and ending on the fifth character\n",
    "#The result is stored in a new column of the dataframe, called 'County_code'\n",
    "df['County_code'] = df['RCDTS'].astype(str).str.pad(15, 'left', '0').str.slice(start = 2, stop = 5)\n",
    "\n",
    "#Merge the two datasets \n",
    "#Conveniently, they now share a 'County_code' column that can be used to match them \n",
    "#`how = 'left'` indicates that all entries from the left dataframe (here, df) should be kept and matched with an entry from the right dataframe (here, IL_codes)\n",
    "#The result is a new dataframe, where county names have been given to all rows based on the county code originally in the RCDTS\n",
    "IL_with_county_name = pd.merge(df, IL_codes, how = 'left', on = 'County_code')\n",
    "\n",
    "#Now export the new dataframe \n",
    "#Pandas has a convenient method to do that: \n",
    "IL_with_county_name.to_csv('C:/Data_various/Illinois_hesitancy/IL_w_county.csv', index = False)"
   ]
  }
 ],
 "metadata": {
  "kernelspec": {
   "display_name": "Python 3",
   "language": "python",
   "name": "python3"
  },
  "language_info": {
   "codemirror_mode": {
    "name": "ipython",
    "version": 3
   },
   "file_extension": ".py",
   "mimetype": "text/x-python",
   "name": "python",
   "nbconvert_exporter": "python",
   "pygments_lexer": "ipython3",
   "version": "3.6.8"
  }
 },
 "nbformat": 4,
 "nbformat_minor": 2
}
