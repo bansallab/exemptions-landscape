{
 "cells": [
  {
   "cell_type": "code",
   "execution_count": 1,
   "metadata": {},
   "outputs": [],
   "source": [
    "#Import data wrangling library \n",
    "import pandas as pd\n",
    "\n",
    "#Also import a numerical library - we will need it later \n",
    "import numpy as np"
   ]
  },
  {
   "cell_type": "code",
   "execution_count": 5,
   "metadata": {},
   "outputs": [
    {
     "name": "stderr",
     "output_type": "stream",
     "text": [
      "C:\\Users\\romai\\Anaconda3\\lib\\site-packages\\ipykernel_launcher.py:12: SettingWithCopyWarning: \n",
      "A value is trying to be set on a copy of a slice from a DataFrame.\n",
      "Try using .loc[row_indexer,col_indexer] = value instead\n",
      "\n",
      "See the caveats in the documentation: http://pandas.pydata.org/pandas-docs/stable/indexing.html#indexing-view-versus-copy\n",
      "  if sys.path[0] == '':\n",
      "C:\\Users\\romai\\Anaconda3\\lib\\site-packages\\ipykernel_launcher.py:13: SettingWithCopyWarning: \n",
      "A value is trying to be set on a copy of a slice from a DataFrame.\n",
      "Try using .loc[row_indexer,col_indexer] = value instead\n",
      "\n",
      "See the caveats in the documentation: http://pandas.pydata.org/pandas-docs/stable/indexing.html#indexing-view-versus-copy\n",
      "  del sys.path[0]\n"
     ]
    }
   ],
   "source": [
    "#This data is at the school district level\n",
    "#You will need to replace this with your dataset\n",
    "TX_exempt = pd.read_csv('C:/Data_various/Texas/TX_exemptions_clean.csv')\n",
    "\n",
    "#Remove Loving county - no exemptions, and no enrollment data because schools are all in Winkler county\n",
    "TX_exempt = TX_exempt[TX_exempt.County != 'Loving']\n",
    "\n",
    "#Select a year of choice (here, 2012) and add a 'Year' column\n",
    "#Also set county names to lower case for merge later\n",
    "#This is a good practice - some dataset may have them in lower case, other in upper case, and some with only the first letter capitalized.\n",
    "TX_exempt_2012 = TX_exempt[TX_exempt['School Year'] == '2012-2013']\n",
    "TX_exempt_2012['Year'] = 2012\n",
    "TX_exempt_2012['County'] = TX_exempt_2012['County'].str.lower()\n",
    "\n",
    "#Import enrollment data for Texas counties in 2012\n",
    "#Data is broken down by sex (not available unsplit!)\n",
    "TX_enrollment_sex_2012 = pd.read_csv('C:/Data_various/Texas/TX_Enrollment_2012_sex.csv')\n",
    "#Only select a couple columns of interest - 'County Name' and 'Enrollment'\n",
    "#Because the data is split by sex, we need to group by 'County Name' and sum up both sexes \n",
    "#Resetting the index ensures that 'County Name' is still a column - we will need it to merge\n",
    "TX_enrollment_2012 = TX_enrollment_sex_2012[['County Name', 'Enrollment by Gender']].groupby('County Name').sum().reset_index()\n",
    "#Change the names of the two columns to 'County' (so it matches the other dataset) and 'Enrollment' (because we don't have sex anymore)\n",
    "TX_enrollment_2012.rename(columns = {'County Name' : 'County', 'Enrollment by Gender' : 'Total_Enrolled'}, inplace = True)\n",
    "#Also set county names to lower case for merge\n",
    "TX_enrollment_2012['County'] = TX_enrollment_2012['County'].str.lower()\n",
    "#Final issue is that this dataset has county names as 'XXX county' but the exemptions only has 'XXX'\n",
    "#This line splits the 'County' names in two at the first space starting from the back and retains the first part - i.e. 'XXX'\n",
    "TX_enrollment_2012['County'] = TX_enrollment_2012['County'].str.rsplit(' ', 1).str[0]\n",
    "\n",
    "#Merge these datasets based on county names, to add enrollment to the exemptions dataset \n",
    "TX_clean_2012 = pd.merge(TX_exempt_2012, TX_enrollment_2012, how = 'left', on = 'County')\n",
    "\n",
    "#Calculate PBE_total - it's the product of the proportion of exemptions by the number enrolled\n",
    "TX_clean_2012['PBE_total'] = np.round((TX_clean_2012['Percent_PBE'] / 100) * TX_clean_2012['Total_Enrolled'])\n",
    "#Create a Medical exemptions column for consistency\n",
    "#Set medical exemptions to 'NaN' - there is no data on that in Texas\n",
    "TX_clean_2012['PME_total'] = np.nan\n",
    "\n",
    "#Export the clean file for use elsewhere\n",
    "TX_clean_2012.to_csv('C:/Data_various/Texas/TX_2012.csv', index = False)\n"
   ]
  }
 ],
 "metadata": {
  "kernelspec": {
   "display_name": "Python 3",
   "language": "python",
   "name": "python3"
  },
  "language_info": {
   "codemirror_mode": {
    "name": "ipython",
    "version": 3
   },
   "file_extension": ".py",
   "mimetype": "text/x-python",
   "name": "python",
   "nbconvert_exporter": "python",
   "pygments_lexer": "ipython3",
   "version": "3.6.8"
  }
 },
 "nbformat": 4,
 "nbformat_minor": 2
}
