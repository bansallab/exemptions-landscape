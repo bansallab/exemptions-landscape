{
 "cells": [
  {
   "cell_type": "code",
   "execution_count": 1,
   "metadata": {},
   "outputs": [],
   "source": [
    "#Import the data wrangling library pandas \n",
    "import pandas as pd\n",
    "\n",
    "#We will also need the numpy library in this code \n",
    "import numpy as np"
   ]
  },
  {
   "cell_type": "markdown",
   "metadata": {},
   "source": [
    "In the state of NY dataset, sometimes School ID don't import well and may need to be checked in the original CSV (there's a weird bug). \n",
    "\n",
    "It also means that it is useful to work on a copy of the dataset rather than the original in case problems arise. "
   ]
  },
  {
   "cell_type": "code",
   "execution_count": 2,
   "metadata": {},
   "outputs": [
    {
     "name": "stderr",
     "output_type": "stream",
     "text": [
      "C:\\Users\\romai\\Anaconda3\\lib\\site-packages\\ipykernel_launcher.py:13: SettingWithCopyWarning: \n",
      "A value is trying to be set on a copy of a slice from a DataFrame.\n",
      "Try using .loc[row_indexer,col_indexer] = value instead\n",
      "\n",
      "See the caveats in the documentation: http://pandas.pydata.org/pandas-docs/stable/indexing.html#indexing-view-versus-copy\n",
      "  del sys.path[0]\n"
     ]
    }
   ],
   "source": [
    "#Import data from New York\n",
    "#This is the file with all the exemptions - you might have a cleaner and more useful version of it \n",
    "NY_exempt = pd.read_csv('C:/Data_various/New_York/NY_exemptions.csv')\n",
    "\n",
    "#Get the data for the year 2012 \n",
    "#In school year, this actually means 2012-2013 \n",
    "#In this dataset, the column is actually called 'Report Period'\n",
    "#If you have already added a 'Year' column to the dataset, you would use that here instead\n",
    "NY_exempt_2012 = NY_exempt[NY_exempt['Report Period'] == '2012-2013']\n",
    "\n",
    "#Add an actual year column\n",
    "#You might have already done this - in that case disregard \n",
    "NY_exempt_2012['Year'] = 2012\n",
    "\n",
    "#Enrollment data in NY is separated by public/private, and in separate years for each file\n",
    "#Start by importing the data for public schools in year 2012\n",
    "Enrollment_public_2012 = pd.read_csv('C:/Data_various/New_York/NY_Public_2012.csv')\n",
    "#In that data, select the only two columns we care about: the ID of the schools and the number of children enrolled\n",
    "Enrollment_public_2012 = Enrollment_public_2012[['STATE LOCATION ID', 'Enrollment']]\n",
    "#Because we will want to be consistent with private schools, give the school ID a standard name by renaming its column\n",
    "Enrollment_public_2012.rename(columns = {'STATE LOCATION ID' : 'School ID'}, inplace = True)\n",
    "\n",
    "\n",
    "#Repeat the process for private schools\n",
    "Enrollment_private_2012 = pd.read_csv('C:/Data_various/New_York/NY_Private_2012.csv') \n",
    "#BEDS code is actually the school ID for private schools in NY\n",
    "Enrollment_private_2012 = Enrollment_private_2012[['BEDS Code', 'Enrollment']]\n",
    "#Rename BEDS code to School ID \n",
    "Enrollment_private_2012.rename(columns = {'BEDS Code' : 'School ID'}, inplace = True)\n",
    "\n",
    "#Now we have two datasets of enrollment for public and private schools, but we need both\n",
    "#Since they have columns with the same name, we append them to have it as one\n",
    "#The resulting dataframe is called Enrollment_2012\n",
    "Enrollment_2012 = Enrollment_public_2012.append(Enrollment_private_2012)\n",
    "\n",
    "#We can now merge the exemptions dataset without enrollment and the enrollment dataset\n",
    "#They both a school ID column which we can use for that purpose \n",
    "#how = 'inner' means that we are only keeping entries that are in both dataset - thus excluding school for which we don't have enrollment\n",
    "#It is worth checking with df.shape that after merging, several thousand schools remain. \n",
    "#Sometimes School ID don't import well and may need to be checked in the original CSV (there's a weird bug)\n",
    "NY_exempt_enrolled_2012 = pd.merge(NY_exempt_2012, Enrollment_2012, how = 'inner', on = [ 'School ID'])\n",
    "\n",
    "#Now we have exemption percentages and enrollment, we can calculate the number of exemptions \n",
    "#To do so we simply take the percentage of medical/religious exemptions and divide by 100 to obtain a proportion \n",
    "#We then multiply the proportion by the number enrolled. \n",
    "#Because these are individuals and the calculation is imprecise, we round the number to only obtain integers (i.e. 10 exemptions, rather 10.05 exemptions)\n",
    "NY_exempt_enrolled_2012['PME_total'] = np.round((NY_exempt_enrolled_2012['Percent Medical Exemptions'] / 100) * NY_exempt_enrolled_2012['Enrollment'])\n",
    "NY_exempt_enrolled_2012['PBE_total'] = np.round((NY_exempt_enrolled_2012['Percent Religious Exemptions'] / 100) * NY_exempt_enrolled_2012['Enrollment'])\n",
    "\n",
    "#Finally, because all the other files have a column 'Total_Enrolled' rather than 'Enrollment', we can rename that column\n",
    "#inplace = True means that the dataset is permanently assigned the new column name\n",
    "NY_exempt_enrolled_2012.rename({'Enrollment' : 'Total_Enrolled'}, inplace = True)\n",
    "\n",
    "#Last thing to do is to export the dataset with number of enrolled student\n",
    "NY_exempt_enrolled_2012.to_csv('C:/Data_various/New_York/Enrolled_2012.csv', index = False)"
   ]
  }
 ],
 "metadata": {
  "kernelspec": {
   "display_name": "Python 3",
   "language": "python",
   "name": "python3"
  },
  "language_info": {
   "codemirror_mode": {
    "name": "ipython",
    "version": 3
   },
   "file_extension": ".py",
   "mimetype": "text/x-python",
   "name": "python",
   "nbconvert_exporter": "python",
   "pygments_lexer": "ipython3",
   "version": "3.6.8"
  }
 },
 "nbformat": 4,
 "nbformat_minor": 2
}
